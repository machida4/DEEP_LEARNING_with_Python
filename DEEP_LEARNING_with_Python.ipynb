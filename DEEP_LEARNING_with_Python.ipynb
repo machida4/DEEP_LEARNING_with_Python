{
  "nbformat": 4,
  "nbformat_minor": 0,
  "metadata": {
    "colab": {
      "provenance": [],
      "authorship_tag": "ABX9TyN/48BSC65DeaKIt5LwsGEz",
      "include_colab_link": true
    },
    "kernelspec": {
      "name": "python3",
      "display_name": "Python 3"
    },
    "language_info": {
      "name": "python"
    },
    "accelerator": "GPU",
    "gpuClass": "standard"
  },
  "cells": [
    {
      "cell_type": "markdown",
      "metadata": {
        "id": "view-in-github",
        "colab_type": "text"
      },
      "source": [
        "<a href=\"https://colab.research.google.com/github/machida4/DEEP_LEARNING_with_Python/blob/master/DEEP_LEARNING_with_Python.ipynb\" target=\"_parent\"><img src=\"https://colab.research.google.com/assets/colab-badge.svg\" alt=\"Open In Colab\"/></a>"
      ]
    },
    {
      "cell_type": "markdown",
      "source": [
        "## NN"
      ],
      "metadata": {
        "id": "ukoZ_qxba0Uk"
      }
    },
    {
      "cell_type": "code",
      "execution_count": null,
      "metadata": {
        "id": "1hRmWPpCSKN2"
      },
      "outputs": [],
      "source": [
        "import tensorflow as tf"
      ]
    },
    {
      "cell_type": "code",
      "source": [
        "class NaiveDense:\n",
        "  def __init__(self, input_size, output_size, activation):\n",
        "    self.activation = activation\n",
        "\n",
        "    # (input_size, output_size),初期値が乱数の行列W\n",
        "    w_shape = (input_size, output_size)\n",
        "    w_initial_value = tf.random.uniform(w_shape, minval=0, maxval=1e-1)\n",
        "    self.W = tf.Variable(w_initial_value)\n",
        "\n",
        "    # (output_size,),初期値が0のベクトルb\n",
        "    b_shape = (output_size,)\n",
        "    b_initial_value = tf.zeros(b_shape)\n",
        "    self.b = tf.Variable(b_initial_value)\n",
        "\n",
        "  def __call__(self, inputs):\n",
        "    return self.activation(tf.matmul(inputs, self.W) + self.b)\n",
        "  \n",
        "  @property\n",
        "  def weights(self):\n",
        "    return [self.W, self.b]\n",
        "\n",
        "class NaiveSequential:\n",
        "  def __init__(self, layers):\n",
        "    self.layers = layers\n",
        "\n",
        "  def __call__(self, inputs):\n",
        "    x = inputs\n",
        "    for layer in self.layers:\n",
        "      x = layer(x)\n",
        "    return x\n",
        "  \n",
        "  @property\n",
        "  def weights(self):\n",
        "    weights = []\n",
        "    for layer in self.layers:\n",
        "      weights += layer.weights\n",
        "    return weights"
      ],
      "metadata": {
        "id": "cc5QGKoWThyA"
      },
      "execution_count": null,
      "outputs": []
    },
    {
      "cell_type": "code",
      "source": [
        "model = NaiveSequential([\n",
        "  NaiveDense(input_size=28*28, output_size=512, activation=tf.nn.relu),\n",
        "  NaiveDense(input_size=512, output_size=10, activation=tf.nn.softmax)\n",
        "])\n",
        "\n",
        "assert len(model.weights) == 4"
      ],
      "metadata": {
        "id": "Taq59ihDVDgp"
      },
      "execution_count": null,
      "outputs": []
    },
    {
      "cell_type": "code",
      "source": [
        "import math\n",
        "\n",
        "class BatchGenerator:\n",
        "  def __init__(self, images, labels, batch_size=128):\n",
        "    assert len(images) == len(labels)\n",
        "    self.index = 0\n",
        "    self.images = images\n",
        "    self.labels = labels\n",
        "    self.batch_size = batch_size\n",
        "    self.num_batches = math.ceil(len(images) / batch_size)\n",
        "  \n",
        "  def next(self):\n",
        "    images = self.images[self.index : self.index + self.batch_size]\n",
        "    labels = self.labels[self.index : self.index + self.batch_size]\n",
        "    self.index += self.batch_size\n",
        "    return images, labels"
      ],
      "metadata": {
        "id": "SNH5EKFhXRbH"
      },
      "execution_count": null,
      "outputs": []
    },
    {
      "cell_type": "code",
      "source": [
        "learning_rate = 1e-3\n",
        "\n",
        "def one_training_step(model, images_batch, labels_batch):\n",
        "  # forward-path\n",
        "  with tf.GradientTape() as tape:\n",
        "    predictions = model(images_batch)\n",
        "    per_sample_losses = tf.keras.losses.sparse_categorical_crossentropy(labels_batch, predictions)\n",
        "    average_loss = tf.reduce_mean(per_sample_losses)\n",
        "\n",
        "    # 勾配のリスト\n",
        "    # model.weightsの各重みに対応\n",
        "    gradients = tape.gradient(average_loss, model.weights)\n",
        "    \n",
        "    # gradientsを使って重みを更新する\n",
        "    update_weights(gradients, model.weights)\n",
        "    return average_loss\n",
        "\n",
        "def update_weights(gradients, weights):\n",
        "  for g, w, in zip(gradients, weights):\n",
        "    w.assign_sub(g * learning_rate) # -=\n",
        "\n",
        "def fit(model, images, labels, epochs, batch_size=128):\n",
        "  for epoch_counter in range(epochs):\n",
        "    print(f\"Epoch {epoch_counter}\")\n",
        "    batch_generator = BatchGenerator(images, labels)\n",
        "    for batch_counter in range(batch_generator.num_batches):\n",
        "      images_batch, labels_batch = batch_generator.next()\n",
        "      loss = one_training_step(model, images_batch, labels_batch)\n",
        "      if batch_counter % 100 == 0:\n",
        "        print(f\"loss at batch {batch_counter}: {loss:.2f}\")"
      ],
      "metadata": {
        "id": "QfXGIbl1X7SB"
      },
      "execution_count": null,
      "outputs": []
    },
    {
      "cell_type": "code",
      "source": [
        "from tensorflow.keras.datasets import mnist\n",
        "\n",
        "(train_images, train_labels), (test_images, test_labels) = mnist.load_data()\n",
        "\n",
        "train_images = train_images.reshape((60000, 28 * 28))\n",
        "train_images = train_images.astype(\"float32\") / 255\n",
        "test_images = test_images.reshape((10000, 28 * 28))\n",
        "test_images = test_images.astype(\"float32\") / 255\n",
        "\n",
        "fit(model, train_images, train_labels, epochs=20, batch_size=128)"
      ],
      "metadata": {
        "colab": {
          "base_uri": "https://localhost:8080/"
        },
        "id": "E1aZ1UaiaHjm",
        "outputId": "d4ee959e-7023-45fe-8454-a673e6258d26"
      },
      "execution_count": null,
      "outputs": [
        {
          "output_type": "stream",
          "name": "stdout",
          "text": [
            "Epoch 0\n",
            "loss at batch 0: 0.63\n",
            "loss at batch 100: 0.65\n",
            "loss at batch 200: 0.56\n",
            "loss at batch 300: 0.63\n",
            "loss at batch 400: 0.71\n",
            "Epoch 1\n",
            "loss at batch 0: 0.60\n",
            "loss at batch 100: 0.61\n",
            "loss at batch 200: 0.52\n",
            "loss at batch 300: 0.60\n",
            "loss at batch 400: 0.68\n",
            "Epoch 2\n",
            "loss at batch 0: 0.57\n",
            "loss at batch 100: 0.58\n",
            "loss at batch 200: 0.50\n",
            "loss at batch 300: 0.57\n",
            "loss at batch 400: 0.66\n",
            "Epoch 3\n",
            "loss at batch 0: 0.55\n",
            "loss at batch 100: 0.55\n",
            "loss at batch 200: 0.47\n",
            "loss at batch 300: 0.55\n",
            "loss at batch 400: 0.64\n",
            "Epoch 4\n",
            "loss at batch 0: 0.53\n",
            "loss at batch 100: 0.53\n",
            "loss at batch 200: 0.45\n",
            "loss at batch 300: 0.53\n",
            "loss at batch 400: 0.62\n",
            "Epoch 5\n",
            "loss at batch 0: 0.51\n",
            "loss at batch 100: 0.50\n",
            "loss at batch 200: 0.43\n",
            "loss at batch 300: 0.51\n",
            "loss at batch 400: 0.61\n",
            "Epoch 6\n",
            "loss at batch 0: 0.49\n",
            "loss at batch 100: 0.49\n",
            "loss at batch 200: 0.42\n",
            "loss at batch 300: 0.50\n",
            "loss at batch 400: 0.59\n",
            "Epoch 7\n",
            "loss at batch 0: 0.48\n",
            "loss at batch 100: 0.47\n",
            "loss at batch 200: 0.40\n",
            "loss at batch 300: 0.49\n",
            "loss at batch 400: 0.58\n",
            "Epoch 8\n",
            "loss at batch 0: 0.47\n",
            "loss at batch 100: 0.45\n",
            "loss at batch 200: 0.39\n",
            "loss at batch 300: 0.47\n",
            "loss at batch 400: 0.57\n",
            "Epoch 9\n",
            "loss at batch 0: 0.46\n",
            "loss at batch 100: 0.44\n",
            "loss at batch 200: 0.38\n",
            "loss at batch 300: 0.46\n",
            "loss at batch 400: 0.56\n",
            "Epoch 10\n",
            "loss at batch 0: 0.45\n",
            "loss at batch 100: 0.43\n",
            "loss at batch 200: 0.37\n",
            "loss at batch 300: 0.45\n",
            "loss at batch 400: 0.56\n",
            "Epoch 11\n",
            "loss at batch 0: 0.44\n",
            "loss at batch 100: 0.42\n",
            "loss at batch 200: 0.36\n",
            "loss at batch 300: 0.44\n",
            "loss at batch 400: 0.55\n",
            "Epoch 12\n",
            "loss at batch 0: 0.43\n",
            "loss at batch 100: 0.41\n",
            "loss at batch 200: 0.35\n",
            "loss at batch 300: 0.44\n",
            "loss at batch 400: 0.54\n",
            "Epoch 13\n",
            "loss at batch 0: 0.42\n",
            "loss at batch 100: 0.40\n",
            "loss at batch 200: 0.35\n",
            "loss at batch 300: 0.43\n",
            "loss at batch 400: 0.54\n",
            "Epoch 14\n",
            "loss at batch 0: 0.41\n",
            "loss at batch 100: 0.39\n",
            "loss at batch 200: 0.34\n",
            "loss at batch 300: 0.42\n",
            "loss at batch 400: 0.53\n",
            "Epoch 15\n",
            "loss at batch 0: 0.41\n",
            "loss at batch 100: 0.38\n",
            "loss at batch 200: 0.33\n",
            "loss at batch 300: 0.42\n",
            "loss at batch 400: 0.52\n",
            "Epoch 16\n",
            "loss at batch 0: 0.40\n",
            "loss at batch 100: 0.38\n",
            "loss at batch 200: 0.33\n",
            "loss at batch 300: 0.41\n",
            "loss at batch 400: 0.52\n",
            "Epoch 17\n",
            "loss at batch 0: 0.40\n",
            "loss at batch 100: 0.37\n",
            "loss at batch 200: 0.32\n",
            "loss at batch 300: 0.40\n",
            "loss at batch 400: 0.51\n",
            "Epoch 18\n",
            "loss at batch 0: 0.39\n",
            "loss at batch 100: 0.36\n",
            "loss at batch 200: 0.32\n",
            "loss at batch 300: 0.40\n",
            "loss at batch 400: 0.51\n",
            "Epoch 19\n",
            "loss at batch 0: 0.38\n",
            "loss at batch 100: 0.36\n",
            "loss at batch 200: 0.31\n",
            "loss at batch 300: 0.39\n",
            "loss at batch 400: 0.51\n"
          ]
        }
      ]
    },
    {
      "cell_type": "code",
      "source": [
        "import numpy as np\n",
        "\n",
        "predictions = model(test_images)\n",
        "predictions = predictions.numpy()\n",
        "predicted_labels = np.argmax(predictions, axis=1)\n",
        "matches = predicted_labels == test_labels\n",
        "print(f\"accuracy: {matches.mean():.2f}\")"
      ],
      "metadata": {
        "colab": {
          "base_uri": "https://localhost:8080/"
        },
        "id": "TZtWJkoya1Pd",
        "outputId": "6bd57ba6-2f9a-4e12-ec53-96067af2a095"
      },
      "execution_count": null,
      "outputs": [
        {
          "output_type": "stream",
          "name": "stdout",
          "text": [
            "accuracy: 0.82\n"
          ]
        }
      ]
    },
    {
      "cell_type": "markdown",
      "source": [
        "## Keras"
      ],
      "metadata": {
        "id": "unYqHtuCbGgB"
      }
    },
    {
      "cell_type": "code",
      "source": [
        "import tensorflow as tf\n",
        "x = tf.ones(shape=(2, 1))\n",
        "print(x)"
      ],
      "metadata": {
        "colab": {
          "base_uri": "https://localhost:8080/"
        },
        "id": "upud4KdnbLSw",
        "outputId": "a6716c9f-bf58-4032-d2ab-57733a4eaca1"
      },
      "execution_count": null,
      "outputs": [
        {
          "output_type": "stream",
          "name": "stdout",
          "text": [
            "tf.Tensor(\n",
            "[[1.]\n",
            " [1.]], shape=(2, 1), dtype=float32)\n"
          ]
        }
      ]
    },
    {
      "cell_type": "code",
      "source": [
        "x = tf.zeros(shape=(2, 1))\n",
        "print(x)"
      ],
      "metadata": {
        "colab": {
          "base_uri": "https://localhost:8080/"
        },
        "id": "JAay_j9fesGL",
        "outputId": "dad84140-d7ae-4b43-d7d9-e77855c94863"
      },
      "execution_count": null,
      "outputs": [
        {
          "output_type": "stream",
          "name": "stdout",
          "text": [
            "tf.Tensor(\n",
            "[[0.]\n",
            " [0.]], shape=(2, 1), dtype=float32)\n"
          ]
        }
      ]
    },
    {
      "cell_type": "code",
      "source": [
        "x = tf.random.normal(shape=(3, 1), mean=0., stddev=1.)\n",
        "print(x)"
      ],
      "metadata": {
        "colab": {
          "base_uri": "https://localhost:8080/"
        },
        "id": "J2QUpeDeex7O",
        "outputId": "b46855eb-5ba3-41e5-ac49-9ff0f46c1058"
      },
      "execution_count": null,
      "outputs": [
        {
          "output_type": "stream",
          "name": "stdout",
          "text": [
            "tf.Tensor(\n",
            "[[-0.9100631]\n",
            " [-0.549231 ]\n",
            " [-0.5124434]], shape=(3, 1), dtype=float32)\n"
          ]
        }
      ]
    },
    {
      "cell_type": "code",
      "source": [
        "x = tf.random.uniform(shape=(3, 1), minval=0., maxval=1.)\n",
        "print(x)"
      ],
      "metadata": {
        "colab": {
          "base_uri": "https://localhost:8080/"
        },
        "id": "_ehWYbNZe_Ew",
        "outputId": "8cf14ed9-c529-43bc-c9f4-2fcf7dd1f357"
      },
      "execution_count": null,
      "outputs": [
        {
          "output_type": "stream",
          "name": "stdout",
          "text": [
            "tf.Tensor(\n",
            "[[0.62228346]\n",
            " [0.5353415 ]\n",
            " [0.8448949 ]], shape=(3, 1), dtype=float32)\n"
          ]
        }
      ]
    },
    {
      "cell_type": "code",
      "source": [
        "input_var = tf.Variable(initial_value=3.)\n",
        "with tf.GradientTape() as tape:\n",
        "  result = tf.square(input_var)\n",
        "gradient = tape.gradient(result, input_var)\n",
        "print(gradient)"
      ],
      "metadata": {
        "colab": {
          "base_uri": "https://localhost:8080/"
        },
        "id": "Z7wS2YIkfZDU",
        "outputId": "6ff14bf7-cfeb-4db7-f89c-44bdee223aab"
      },
      "execution_count": null,
      "outputs": [
        {
          "output_type": "stream",
          "name": "stdout",
          "text": [
            "tf.Tensor(6.0, shape=(), dtype=float32)\n"
          ]
        }
      ]
    },
    {
      "cell_type": "code",
      "source": [
        "import numpy as np\n",
        "\n",
        "num_samples_per_class = 1000\n",
        "cov = [[1, 0.5], [0.5, 1]]\n",
        "negative_samples = np.random.multivariate_normal(mean=[0, 3], cov=cov, size=num_samples_per_class)\n",
        "positive_samples = np.random.multivariate_normal(mean=[3, 0], cov=cov, size=num_samples_per_class)\n",
        "inputs = np.vstack((negative_samples, positive_samples)).astype(np.float32)\n",
        "\n",
        "targets = np.vstack((np.zeros((num_samples_per_class, 1), dtype=\"float32\"), np.ones((num_samples_per_class, 1), dtype=\"float32\")))"
      ],
      "metadata": {
        "id": "mAGPSwMVh5H2"
      },
      "execution_count": null,
      "outputs": []
    },
    {
      "cell_type": "code",
      "source": [
        "import matplotlib.pyplot as plt"
      ],
      "metadata": {
        "id": "Wh55-U72loHu"
      },
      "execution_count": null,
      "outputs": []
    },
    {
      "cell_type": "code",
      "source": [
        "plt.scatter(inputs[:, 0], inputs[:, 1], c=targets[:, 0])\n",
        "plt.show()"
      ],
      "metadata": {
        "colab": {
          "base_uri": "https://localhost:8080/",
          "height": 265
        },
        "id": "KyOFOCoulr4H",
        "outputId": "074952e3-ba3f-45f9-aa9d-271fa9d5fab4"
      },
      "execution_count": null,
      "outputs": [
        {
          "output_type": "display_data",
          "data": {
            "text/plain": [
              "<Figure size 432x288 with 1 Axes>"
            ],
            "image/png": "[encoded data removed]"
          },
          "metadata": {
            "needs_background": "light"
          }
        }
      ]
    },
    {
      "cell_type": "code",
      "source": [
        "input_dim = 2\n",
        "output_dim = 1\n",
        "\n",
        "W = tf.Variable(initial_value=tf.random.uniform(shape=(input_dim, output_dim)))\n",
        "b = tf.Variable(initial_value=tf.zeros(shape=(output_dim,)))"
      ],
      "metadata": {
        "id": "ISqVmKlQlyWy"
      },
      "execution_count": null,
      "outputs": []
    },
    {
      "cell_type": "code",
      "source": [
        "def model(inputs):\n",
        "  return tf.matmul(inputs, W) + b\n",
        "\n",
        "# 損失関数（平均二重誤差）\n",
        "def square_loss(targets, predictions):\n",
        "  per_sample_losses = tf.square(targets - predictions)\n",
        "  return tf.reduce_mean(per_sample_losses)\n",
        "\n",
        "learning_rate = 0.1\n",
        "def training_step(inputs, targets):\n",
        "  with tf.GradientTape() as tape:\n",
        "    predictions = model(inputs)\n",
        "    loss = square_loss(predictions, targets)\n",
        "  \n",
        "  grad_loss_W, grad_loss_b = tape.gradient(loss, [W, b])\n",
        "  W.assign_sub(grad_loss_W * learning_rate)\n",
        "  b.assign_sub(grad_loss_b * learning_rate)\n",
        "  \n",
        "  return loss"
      ],
      "metadata": {
        "id": "AJojCm-rmDHj"
      },
      "execution_count": null,
      "outputs": []
    },
    {
      "cell_type": "code",
      "source": [
        "for step in range(300):\n",
        "  loss = training_step(inputs, targets)\n",
        "  print(f\"Loss at step {step}: {loss:4f}\")"
      ],
      "metadata": {
        "colab": {
          "base_uri": "https://localhost:8080/"
        },
        "id": "r6txn-b5o1Tc",
        "outputId": "d36d12bd-ada3-46d0-f18c-636a9c0962e7"
      },
      "execution_count": null,
      "outputs": [
        {
          "output_type": "stream",
          "name": "stdout",
          "text": [
            "Loss at step 0: 0.025097\n",
            "Loss at step 1: 0.025097\n",
            "Loss at step 2: 0.025097\n",
            "Loss at step 3: 0.025097\n",
            "Loss at step 4: 0.025097\n",
            "Loss at step 5: 0.025097\n",
            "Loss at step 6: 0.025097\n",
            "Loss at step 7: 0.025097\n",
            "Loss at step 8: 0.025097\n",
            "Loss at step 9: 0.025097\n",
            "Loss at step 10: 0.025097\n",
            "Loss at step 11: 0.025097\n",
            "Loss at step 12: 0.025097\n",
            "Loss at step 13: 0.025097\n",
            "Loss at step 14: 0.025097\n",
            "Loss at step 15: 0.025097\n",
            "Loss at step 16: 0.025097\n",
            "Loss at step 17: 0.025097\n",
            "Loss at step 18: 0.025097\n",
            "Loss at step 19: 0.025097\n",
            "Loss at step 20: 0.025097\n",
            "Loss at step 21: 0.025097\n",
            "Loss at step 22: 0.025097\n",
            "Loss at step 23: 0.025097\n",
            "Loss at step 24: 0.025097\n",
            "Loss at step 25: 0.025097\n",
            "Loss at step 26: 0.025097\n",
            "Loss at step 27: 0.025097\n",
            "Loss at step 28: 0.025097\n",
            "Loss at step 29: 0.025097\n",
            "Loss at step 30: 0.025097\n",
            "Loss at step 31: 0.025097\n",
            "Loss at step 32: 0.025097\n",
            "Loss at step 33: 0.025097\n",
            "Loss at step 34: 0.025097\n",
            "Loss at step 35: 0.025097\n",
            "Loss at step 36: 0.025097\n",
            "Loss at step 37: 0.025097\n",
            "Loss at step 38: 0.025097\n",
            "Loss at step 39: 0.025097\n",
            "Loss at step 40: 0.025097\n",
            "Loss at step 41: 0.025097\n",
            "Loss at step 42: 0.025097\n",
            "Loss at step 43: 0.025097\n",
            "Loss at step 44: 0.025097\n",
            "Loss at step 45: 0.025097\n",
            "Loss at step 46: 0.025097\n",
            "Loss at step 47: 0.025097\n",
            "Loss at step 48: 0.025097\n",
            "Loss at step 49: 0.025097\n",
            "Loss at step 50: 0.025097\n",
            "Loss at step 51: 0.025097\n",
            "Loss at step 52: 0.025097\n",
            "Loss at step 53: 0.025097\n",
            "Loss at step 54: 0.025097\n",
            "Loss at step 55: 0.025097\n",
            "Loss at step 56: 0.025097\n",
            "Loss at step 57: 0.025097\n",
            "Loss at step 58: 0.025097\n",
            "Loss at step 59: 0.025097\n",
            "Loss at step 60: 0.025097\n",
            "Loss at step 61: 0.025097\n",
            "Loss at step 62: 0.025097\n",
            "Loss at step 63: 0.025097\n",
            "Loss at step 64: 0.025097\n",
            "Loss at step 65: 0.025097\n",
            "Loss at step 66: 0.025097\n",
            "Loss at step 67: 0.025097\n",
            "Loss at step 68: 0.025097\n",
            "Loss at step 69: 0.025097\n",
            "Loss at step 70: 0.025097\n",
            "Loss at step 71: 0.025097\n",
            "Loss at step 72: 0.025097\n",
            "Loss at step 73: 0.025097\n",
            "Loss at step 74: 0.025097\n",
            "Loss at step 75: 0.025097\n",
            "Loss at step 76: 0.025097\n",
            "Loss at step 77: 0.025097\n",
            "Loss at step 78: 0.025097\n",
            "Loss at step 79: 0.025097\n",
            "Loss at step 80: 0.025097\n",
            "Loss at step 81: 0.025097\n",
            "Loss at step 82: 0.025097\n",
            "Loss at step 83: 0.025097\n",
            "Loss at step 84: 0.025097\n",
            "Loss at step 85: 0.025097\n",
            "Loss at step 86: 0.025097\n",
            "Loss at step 87: 0.025097\n",
            "Loss at step 88: 0.025097\n",
            "Loss at step 89: 0.025097\n",
            "Loss at step 90: 0.025097\n",
            "Loss at step 91: 0.025097\n",
            "Loss at step 92: 0.025097\n",
            "Loss at step 93: 0.025097\n",
            "Loss at step 94: 0.025097\n",
            "Loss at step 95: 0.025097\n",
            "Loss at step 96: 0.025097\n",
            "Loss at step 97: 0.025097\n",
            "Loss at step 98: 0.025097\n",
            "Loss at step 99: 0.025097\n",
            "Loss at step 100: 0.025097\n",
            "Loss at step 101: 0.025097\n",
            "Loss at step 102: 0.025097\n",
            "Loss at step 103: 0.025097\n",
            "Loss at step 104: 0.025097\n",
            "Loss at step 105: 0.025097\n",
            "Loss at step 106: 0.025097\n",
            "Loss at step 107: 0.025097\n",
            "Loss at step 108: 0.025097\n",
            "Loss at step 109: 0.025097\n",
            "Loss at step 110: 0.025097\n",
            "Loss at step 111: 0.025097\n",
            "Loss at step 112: 0.025097\n",
            "Loss at step 113: 0.025097\n",
            "Loss at step 114: 0.025097\n",
            "Loss at step 115: 0.025097\n",
            "Loss at step 116: 0.025097\n",
            "Loss at step 117: 0.025097\n",
            "Loss at step 118: 0.025097\n",
            "Loss at step 119: 0.025097\n",
            "Loss at step 120: 0.025097\n",
            "Loss at step 121: 0.025097\n",
            "Loss at step 122: 0.025097\n",
            "Loss at step 123: 0.025097\n",
            "Loss at step 124: 0.025097\n",
            "Loss at step 125: 0.025097\n",
            "Loss at step 126: 0.025097\n",
            "Loss at step 127: 0.025097\n",
            "Loss at step 128: 0.025097\n",
            "Loss at step 129: 0.025097\n",
            "Loss at step 130: 0.025097\n",
            "Loss at step 131: 0.025097\n",
            "Loss at step 132: 0.025097\n",
            "Loss at step 133: 0.025097\n",
            "Loss at step 134: 0.025097\n",
            "Loss at step 135: 0.025097\n",
            "Loss at step 136: 0.025097\n",
            "Loss at step 137: 0.025097\n",
            "Loss at step 138: 0.025097\n",
            "Loss at step 139: 0.025097\n",
            "Loss at step 140: 0.025097\n",
            "Loss at step 141: 0.025097\n",
            "Loss at step 142: 0.025097\n",
            "Loss at step 143: 0.025097\n",
            "Loss at step 144: 0.025097\n",
            "Loss at step 145: 0.025097\n",
            "Loss at step 146: 0.025097\n",
            "Loss at step 147: 0.025097\n",
            "Loss at step 148: 0.025097\n",
            "Loss at step 149: 0.025097\n",
            "Loss at step 150: 0.025097\n",
            "Loss at step 151: 0.025097\n",
            "Loss at step 152: 0.025097\n",
            "Loss at step 153: 0.025097\n",
            "Loss at step 154: 0.025097\n",
            "Loss at step 155: 0.025097\n",
            "Loss at step 156: 0.025097\n",
            "Loss at step 157: 0.025097\n",
            "Loss at step 158: 0.025097\n",
            "Loss at step 159: 0.025097\n",
            "Loss at step 160: 0.025097\n",
            "Loss at step 161: 0.025097\n",
            "Loss at step 162: 0.025097\n",
            "Loss at step 163: 0.025097\n",
            "Loss at step 164: 0.025097\n",
            "Loss at step 165: 0.025097\n",
            "Loss at step 166: 0.025097\n",
            "Loss at step 167: 0.025097\n",
            "Loss at step 168: 0.025097\n",
            "Loss at step 169: 0.025097\n",
            "Loss at step 170: 0.025097\n",
            "Loss at step 171: 0.025097\n",
            "Loss at step 172: 0.025097\n",
            "Loss at step 173: 0.025097\n",
            "Loss at step 174: 0.025097\n",
            "Loss at step 175: 0.025097\n",
            "Loss at step 176: 0.025097\n",
            "Loss at step 177: 0.025097\n",
            "Loss at step 178: 0.025097\n",
            "Loss at step 179: 0.025097\n",
            "Loss at step 180: 0.025097\n",
            "Loss at step 181: 0.025097\n",
            "Loss at step 182: 0.025097\n",
            "Loss at step 183: 0.025097\n",
            "Loss at step 184: 0.025097\n",
            "Loss at step 185: 0.025097\n",
            "Loss at step 186: 0.025097\n",
            "Loss at step 187: 0.025097\n",
            "Loss at step 188: 0.025097\n",
            "Loss at step 189: 0.025097\n",
            "Loss at step 190: 0.025097\n",
            "Loss at step 191: 0.025097\n",
            "Loss at step 192: 0.025097\n",
            "Loss at step 193: 0.025097\n",
            "Loss at step 194: 0.025097\n",
            "Loss at step 195: 0.025097\n",
            "Loss at step 196: 0.025097\n",
            "Loss at step 197: 0.025097\n",
            "Loss at step 198: 0.025097\n",
            "Loss at step 199: 0.025097\n",
            "Loss at step 200: 0.025097\n",
            "Loss at step 201: 0.025097\n",
            "Loss at step 202: 0.025097\n",
            "Loss at step 203: 0.025097\n",
            "Loss at step 204: 0.025097\n",
            "Loss at step 205: 0.025097\n",
            "Loss at step 206: 0.025097\n",
            "Loss at step 207: 0.025097\n",
            "Loss at step 208: 0.025097\n",
            "Loss at step 209: 0.025097\n",
            "Loss at step 210: 0.025097\n",
            "Loss at step 211: 0.025097\n",
            "Loss at step 212: 0.025097\n",
            "Loss at step 213: 0.025097\n",
            "Loss at step 214: 0.025097\n",
            "Loss at step 215: 0.025097\n",
            "Loss at step 216: 0.025097\n",
            "Loss at step 217: 0.025097\n",
            "Loss at step 218: 0.025097\n",
            "Loss at step 219: 0.025097\n",
            "Loss at step 220: 0.025097\n",
            "Loss at step 221: 0.025097\n",
            "Loss at step 222: 0.025097\n",
            "Loss at step 223: 0.025097\n",
            "Loss at step 224: 0.025097\n",
            "Loss at step 225: 0.025097\n",
            "Loss at step 226: 0.025097\n",
            "Loss at step 227: 0.025097\n",
            "Loss at step 228: 0.025097\n",
            "Loss at step 229: 0.025097\n",
            "Loss at step 230: 0.025097\n",
            "Loss at step 231: 0.025097\n",
            "Loss at step 232: 0.025097\n",
            "Loss at step 233: 0.025097\n",
            "Loss at step 234: 0.025097\n",
            "Loss at step 235: 0.025097\n",
            "Loss at step 236: 0.025097\n",
            "Loss at step 237: 0.025097\n",
            "Loss at step 238: 0.025097\n",
            "Loss at step 239: 0.025097\n",
            "Loss at step 240: 0.025097\n",
            "Loss at step 241: 0.025097\n",
            "Loss at step 242: 0.025097\n",
            "Loss at step 243: 0.025097\n",
            "Loss at step 244: 0.025097\n",
            "Loss at step 245: 0.025097\n",
            "Loss at step 246: 0.025097\n",
            "Loss at step 247: 0.025097\n",
            "Loss at step 248: 0.025097\n",
            "Loss at step 249: 0.025097\n",
            "Loss at step 250: 0.025097\n",
            "Loss at step 251: 0.025097\n",
            "Loss at step 252: 0.025097\n",
            "Loss at step 253: 0.025097\n",
            "Loss at step 254: 0.025097\n",
            "Loss at step 255: 0.025097\n",
            "Loss at step 256: 0.025097\n",
            "Loss at step 257: 0.025097\n",
            "Loss at step 258: 0.025097\n",
            "Loss at step 259: 0.025097\n",
            "Loss at step 260: 0.025097\n",
            "Loss at step 261: 0.025097\n",
            "Loss at step 262: 0.025097\n",
            "Loss at step 263: 0.025097\n",
            "Loss at step 264: 0.025097\n",
            "Loss at step 265: 0.025097\n",
            "Loss at step 266: 0.025097\n",
            "Loss at step 267: 0.025097\n",
            "Loss at step 268: 0.025097\n",
            "Loss at step 269: 0.025097\n",
            "Loss at step 270: 0.025097\n",
            "Loss at step 271: 0.025097\n",
            "Loss at step 272: 0.025097\n",
            "Loss at step 273: 0.025097\n",
            "Loss at step 274: 0.025097\n",
            "Loss at step 275: 0.025097\n",
            "Loss at step 276: 0.025097\n",
            "Loss at step 277: 0.025097\n",
            "Loss at step 278: 0.025097\n",
            "Loss at step 279: 0.025097\n",
            "Loss at step 280: 0.025097\n",
            "Loss at step 281: 0.025097\n",
            "Loss at step 282: 0.025097\n",
            "Loss at step 283: 0.025097\n",
            "Loss at step 284: 0.025097\n",
            "Loss at step 285: 0.025097\n",
            "Loss at step 286: 0.025097\n",
            "Loss at step 287: 0.025097\n",
            "Loss at step 288: 0.025097\n",
            "Loss at step 289: 0.025097\n",
            "Loss at step 290: 0.025097\n",
            "Loss at step 291: 0.025097\n",
            "Loss at step 292: 0.025097\n",
            "Loss at step 293: 0.025097\n",
            "Loss at step 294: 0.025097\n",
            "Loss at step 295: 0.025097\n",
            "Loss at step 296: 0.025097\n",
            "Loss at step 297: 0.025097\n",
            "Loss at step 298: 0.025097\n",
            "Loss at step 299: 0.025097\n"
          ]
        }
      ]
    },
    {
      "cell_type": "code",
      "source": [
        "predictions = model(inputs)\n",
        "plt.scatter(inputs[:, 0], inputs[:, 1], c=predictions[:, 0] > 0.5)\n",
        "plt.show()\n",
        "\n",
        "x = np.linspace(-1, 4, 100)\n",
        "y = - W[0] / W[1] * x + (0.5 - b) / W[1]\n",
        "plt.plot(x, y, \"-r\")\n",
        "plt.scatter(inputs[:, 0], inputs[:, 1], c=predictions[:, 0] > 0.5)"
      ],
      "metadata": {
        "colab": {
          "base_uri": "https://localhost:8080/",
          "height": 530
        },
        "id": "fx-bM8L7pgsn",
        "outputId": "b0bde146-fd00-4a37-c924-a965bdb99309"
      },
      "execution_count": null,
      "outputs": [
        {
          "output_type": "display_data",
          "data": {
            "text/plain": [
              "<Figure size 432x288 with 1 Axes>"
            ],
            "image/png": "[encoded data removed]"
          },
          "metadata": {
            "needs_background": "light"
          }
        },
        {
          "output_type": "execute_result",
          "data": {
            "text/plain": [
              "<matplotlib.collections.PathCollection at 0x7ff780fcf070>"
            ]
          },
          "metadata": {},
          "execution_count": 33
        },
        {
          "output_type": "display_data",
          "data": {
            "text/plain": [
              "<Figure size 432x288 with 1 Axes>"
            ],
            "image/png": "[encoded data removed]"
          },
          "metadata": {
            "needs_background": "light"
          }
        }
      ]
    },
    {
      "cell_type": "markdown",
      "source": [
        "## IMDb"
      ],
      "metadata": {
        "id": "IAi2XzsWVtRx"
      }
    },
    {
      "cell_type": "code",
      "source": [
        "from tensorflow.keras.datasets import imdb\n",
        "\n",
        "(train_data, train_labels), (test_data, test_labels) = imdb.load_data(num_words=10000)"
      ],
      "metadata": {
        "id": "eObRXqORp9Sf",
        "colab": {
          "base_uri": "https://localhost:8080/"
        },
        "outputId": "0ec462e7-4d5e-43c9-bbf7-bb2c81e4a42f"
      },
      "execution_count": 1,
      "outputs": [
        {
          "output_type": "stream",
          "name": "stdout",
          "text": [
            "Downloading data from https://storage.googleapis.com/tensorflow/tf-keras-datasets/imdb.npz\n",
            "17464789/17464789 [==============================] - 1s 0us/step\n"
          ]
        }
      ]
    },
    {
      "cell_type": "code",
      "source": [
        "# 試しにレビューをテキストに戻してみる\n",
        "word_index = imdb.get_word_index()\n",
        "reverse_word_index = dict([value, key] for (key, value) in word_index.items())\n",
        "docoded_review = \" \".join([reverse_word_index.get(i - 3, \"?\") for i in train_data[0]])\n",
        "print(docoded_review)"
      ],
      "metadata": {
        "colab": {
          "base_uri": "https://localhost:8080/"
        },
        "id": "3D0KqAriWVEn",
        "outputId": "c404e590-5311-44be-e31c-e9d2344ae97c"
      },
      "execution_count": 2,
      "outputs": [
        {
          "output_type": "stream",
          "name": "stdout",
          "text": [
            "Downloading data from https://storage.googleapis.com/tensorflow/tf-keras-datasets/imdb_word_index.json\n",
            "1641221/1641221 [==============================] - 0s 0us/step\n",
            "? this film was just brilliant casting location scenery story direction everyone's really suited the part they played and you could just imagine being there robert ? is an amazing actor and now the same being director ? father came from the same scottish island as myself so i loved the fact there was a real connection with this film the witty remarks throughout the film were great it was just brilliant so much that i bought the film as soon as it was released for ? and would recommend it to everyone to watch and the fly fishing was amazing really cried at the end it was so sad and you know what they say if you cry at a film it must have been good and this definitely was also ? to the two little boy's that played the ? of norman and paul they were just brilliant children are often left out of the ? list i think because the stars that play them all grown up are such a big profile for the whole film but these children are amazing and should be praised for what they have done don't you think the whole story was so lovely because it was true and was someone's life after all that was shared with us all\n"
          ]
        }
      ]
    },
    {
      "cell_type": "code",
      "source": [
        "import numpy as np\n",
        "\n",
        "# multi-hot encoding\n",
        "def vectorize_sequences(sequences, dimension=10000):\n",
        "  # (len(sequences), dimension)の0埋め行列\n",
        "  results = np.zeros((len(sequences), dimension))\n",
        "  for i, sequence in enumerate(sequences):\n",
        "    for j in sequence:\n",
        "      results[i, j] = 1.\n",
        "  return results\n",
        "\n",
        "# レビューをmulti-hot encoding\n",
        "x_train = vectorize_sequences(train_data)\n",
        "x_test = vectorize_sequences(test_data)\n",
        "# ラベルをベクトル化(0:negative, 1:positive)\n",
        "y_train = np.asarray(train_labels).astype(\"float32\")\n",
        "y_test = np.asarray(test_labels).astype(\"float32\")"
      ],
      "metadata": {
        "id": "npbnTOPtWf8j"
      },
      "execution_count": 3,
      "outputs": []
    },
    {
      "cell_type": "code",
      "source": [
        "from tensorflow import keras\n",
        "from tensorflow.keras import layers\n",
        "\n",
        "model = keras.Sequential([layers.Dense(16, activation=\"relu\"),\n",
        "                          layers.Dense(16, activation=\"relu\"),\n",
        "                          layers.Dense(1, activation=\"sigmoid\")])"
      ],
      "metadata": {
        "id": "dUSF4QRzXl8i"
      },
      "execution_count": 4,
      "outputs": []
    },
    {
      "cell_type": "code",
      "source": [
        "model.compile(optimizer=\"rmsprop\", loss=\"binary_crossentropy\", metrics=[\"accuracy\"])"
      ],
      "metadata": {
        "id": "MPowtNKIYQsH"
      },
      "execution_count": 5,
      "outputs": []
    },
    {
      "cell_type": "code",
      "source": [
        "# 検証セット\n",
        "x_val = x_train[:10000]\n",
        "partial_x_train = x_train[10000:]\n",
        "y_val = y_train[:10000]\n",
        "partial_y_train = y_train[10000:]"
      ],
      "metadata": {
        "id": "f-LQ2OUp9pii"
      },
      "execution_count": 9,
      "outputs": []
    },
    {
      "cell_type": "code",
      "source": [
        "history = model.fit(partial_x_train, partial_y_train, epochs=20, batch_size=512, validation_data=(x_val, y_val))"
      ],
      "metadata": {
        "colab": {
          "base_uri": "https://localhost:8080/"
        },
        "id": "2toKUrt198TV",
        "outputId": "7107688e-9687-4bc8-826b-533cf0d2b662"
      },
      "execution_count": 10,
      "outputs": [
        {
          "output_type": "stream",
          "name": "stdout",
          "text": [
            "Epoch 1/20\n",
            "30/30 [==============================] - 7s 69ms/step - loss: 0.5176 - accuracy: 0.7679 - val_loss: 0.3891 - val_accuracy: 0.8610\n",
            "Epoch 2/20\n",
            "30/30 [==============================] - 1s 25ms/step - loss: 0.3079 - accuracy: 0.8985 - val_loss: 0.3059 - val_accuracy: 0.8844\n",
            "Epoch 3/20\n",
            "30/30 [==============================] - 1s 23ms/step - loss: 0.2332 - accuracy: 0.9212 - val_loss: 0.2820 - val_accuracy: 0.8885\n",
            "Epoch 4/20\n",
            "30/30 [==============================] - 1s 26ms/step - loss: 0.1851 - accuracy: 0.9399 - val_loss: 0.3258 - val_accuracy: 0.8709\n",
            "Epoch 5/20\n",
            "30/30 [==============================] - 1s 26ms/step - loss: 0.1558 - accuracy: 0.9500 - val_loss: 0.3158 - val_accuracy: 0.8737\n",
            "Epoch 6/20\n",
            "30/30 [==============================] - 1s 24ms/step - loss: 0.1322 - accuracy: 0.9604 - val_loss: 0.3116 - val_accuracy: 0.8755\n",
            "Epoch 7/20\n",
            "30/30 [==============================] - 1s 25ms/step - loss: 0.1138 - accuracy: 0.9655 - val_loss: 0.3019 - val_accuracy: 0.8822\n",
            "Epoch 8/20\n",
            "30/30 [==============================] - 1s 23ms/step - loss: 0.0987 - accuracy: 0.9705 - val_loss: 0.3274 - val_accuracy: 0.8832\n",
            "Epoch 9/20\n",
            "30/30 [==============================] - 1s 25ms/step - loss: 0.0873 - accuracy: 0.9739 - val_loss: 0.3348 - val_accuracy: 0.8790\n",
            "Epoch 10/20\n",
            "30/30 [==============================] - 1s 25ms/step - loss: 0.0700 - accuracy: 0.9819 - val_loss: 0.4275 - val_accuracy: 0.8582\n",
            "Epoch 11/20\n",
            "30/30 [==============================] - 1s 25ms/step - loss: 0.0642 - accuracy: 0.9842 - val_loss: 0.3679 - val_accuracy: 0.8788\n",
            "Epoch 12/20\n",
            "30/30 [==============================] - 1s 24ms/step - loss: 0.0528 - accuracy: 0.9867 - val_loss: 0.4070 - val_accuracy: 0.8696\n",
            "Epoch 13/20\n",
            "30/30 [==============================] - 1s 23ms/step - loss: 0.0437 - accuracy: 0.9910 - val_loss: 0.4561 - val_accuracy: 0.8696\n",
            "Epoch 14/20\n",
            "30/30 [==============================] - 1s 37ms/step - loss: 0.0390 - accuracy: 0.9919 - val_loss: 0.4317 - val_accuracy: 0.8767\n",
            "Epoch 15/20\n",
            "30/30 [==============================] - 1s 31ms/step - loss: 0.0326 - accuracy: 0.9931 - val_loss: 0.4517 - val_accuracy: 0.8750\n",
            "Epoch 16/20\n",
            "30/30 [==============================] - 1s 41ms/step - loss: 0.0278 - accuracy: 0.9948 - val_loss: 0.4870 - val_accuracy: 0.8742\n",
            "Epoch 17/20\n",
            "30/30 [==============================] - 1s 27ms/step - loss: 0.0207 - accuracy: 0.9975 - val_loss: 0.5712 - val_accuracy: 0.8637\n",
            "Epoch 18/20\n",
            "30/30 [==============================] - 1s 23ms/step - loss: 0.0204 - accuracy: 0.9970 - val_loss: 0.5268 - val_accuracy: 0.8698\n",
            "Epoch 19/20\n",
            "30/30 [==============================] - 1s 24ms/step - loss: 0.0139 - accuracy: 0.9988 - val_loss: 0.5829 - val_accuracy: 0.8685\n",
            "Epoch 20/20\n",
            "30/30 [==============================] - 1s 26ms/step - loss: 0.0120 - accuracy: 0.9985 - val_loss: 0.5681 - val_accuracy: 0.8728\n"
          ]
        }
      ]
    },
    {
      "cell_type": "code",
      "source": [
        "# 訓練データと検証データでの損失値をプロット\n",
        "import matplotlib.pyplot as plt\n",
        "\n",
        "history_dict = history.history\n",
        "loss_values = history_dict[\"loss\"]\n",
        "val_loss_values = history_dict[\"val_loss\"]\n",
        "epochs = range(1, len(loss_values) + 1)\n",
        "# 青のドットでプロット\n",
        "plt.plot(epochs, loss_values, \"bo\", label=\"Training loss\")\n",
        "# 青の実線でプロット\n",
        "plt.plot(epochs, val_loss_values, \"b\", label=\"Validation loss\")\n",
        "plt.title(\"Training and validation loss\")\n",
        "plt.xlabel(\"Epochs\")\n",
        "plt.ylabel(\"Loss\")\n",
        "plt.legend()\n",
        "plt.show()"
      ],
      "metadata": {
        "colab": {
          "base_uri": "https://localhost:8080/",
          "height": 279
        },
        "id": "mEHZyPwq-n-h",
        "outputId": "552fe93c-fba7-4898-ab88-a863effc5741"
      },
      "execution_count": 13,
      "outputs": [
        {
          "output_type": "display_data",
          "data": {
            "text/plain": [
              "<Figure size 432x288 with 1 Axes>"
            ],
            "image/png": "[encoded data removed]"
          },
          "metadata": {
            "needs_background": "light"
          }
        }
      ]
    },
    {
      "cell_type": "code",
      "source": [
        "# 訓練データと検証データでの正解率をプロット\n",
        "acc = history_dict[\"accuracy\"]\n",
        "val_acc = history_dict[\"val_accuracy\"]\n",
        "plt.plot(epochs, acc, \"bo\", label=\"Training acc\")\n",
        "plt.plot(epochs, val_acc, \"b\", label=\"Validation acc\")\n",
        "plt.title(\"Training and validation accuracy\")\n",
        "plt.xlabel(\"Epochs\")\n",
        "plt.ylabel(\"Accuracy\")\n",
        "plt.legend()\n",
        "plt.show()"
      ],
      "metadata": {
        "colab": {
          "base_uri": "https://localhost:8080/",
          "height": 295
        },
        "id": "H5D7b26T_tqI",
        "outputId": "e9bca210-2051-4510-de95-54261dd5b7cd"
      },
      "execution_count": 14,
      "outputs": [
        {
          "output_type": "display_data",
          "data": {
            "text/plain": [
              "<Figure size 432x288 with 1 Axes>"
            ],
            "image/png": "[encoded data removed]"
          },
          "metadata": {
            "needs_background": "light"
          }
        }
      ]
    },
    {
      "cell_type": "code",
      "source": [
        "model.predict(x_test)"
      ],
      "metadata": {
        "colab": {
          "base_uri": "https://localhost:8080/"
        },
        "id": "CF5Zhu1UAhSq",
        "outputId": "48eef4ad-67bf-4d49-86da-ca95bccddd38"
      },
      "execution_count": 15,
      "outputs": [
        {
          "output_type": "stream",
          "name": "stdout",
          "text": [
            "782/782 [==============================] - 2s 3ms/step\n"
          ]
        },
        {
          "output_type": "execute_result",
          "data": {
            "text/plain": [
              "array([[0.01215919],\n",
              "       [0.99999976],\n",
              "       [0.7186963 ],\n",
              "       ...,\n",
              "       [0.00208633],\n",
              "       [0.00770024],\n",
              "       [0.948805  ]], dtype=float32)"
            ]
          },
          "metadata": {},
          "execution_count": 15
        }
      ]
    },
    {
      "cell_type": "markdown",
      "source": [
        "## Reuters"
      ],
      "metadata": {
        "id": "NT781kMeA67I"
      }
    },
    {
      "cell_type": "code",
      "source": [
        "from tensorflow.keras.datasets import reuters\n",
        "\n",
        "(train_data, train_labels), (test_data, test_labels) = reuters.load_data(num_words=10000)"
      ],
      "metadata": {
        "colab": {
          "base_uri": "https://localhost:8080/"
        },
        "id": "ttR_IYxdA932",
        "outputId": "15710a5c-9e94-4844-ebe4-b76014eda251"
      },
      "execution_count": 16,
      "outputs": [
        {
          "output_type": "stream",
          "name": "stdout",
          "text": [
            "Downloading data from https://storage.googleapis.com/tensorflow/tf-keras-datasets/reuters.npz\n",
            "2110848/2110848 [==============================] - 0s 0us/step\n"
          ]
        }
      ]
    },
    {
      "cell_type": "code",
      "source": [
        "word_index = reuters.get_word_index()\n",
        "reverse_word_index = dict([(value, key) for (key, value) in word_index.items()])\n",
        "decoded_newswire = \" \".join([reverse_word_index.get(i - 3, \"?\") for i in train_data[0]])\n",
        "print(decoded_newswire)"
      ],
      "metadata": {
        "colab": {
          "base_uri": "https://localhost:8080/"
        },
        "id": "iaCfMtQGBQYr",
        "outputId": "92155774-6ab4-4db7-d0b3-d7704994606c"
      },
      "execution_count": 18,
      "outputs": [
        {
          "output_type": "stream",
          "name": "stdout",
          "text": [
            "? ? ? said as a result of its december acquisition of space co it expects earnings per share in 1987 of 1 15 to 1 30 dlrs per share up from 70 cts in 1986 the company said pretax net should rise to nine to 10 mln dlrs from six mln dlrs in 1986 and rental operation revenues to 19 to 22 mln dlrs from 12 5 mln dlrs it said cash flow per share this year should be 2 50 to three dlrs reuter 3\n"
          ]
        }
      ]
    },
    {
      "cell_type": "code",
      "source": [
        "x_train = vectorize_sequences(train_data)\n",
        "x_test = vectorize_sequences(test_data)"
      ],
      "metadata": {
        "id": "-z1wJ423BuX1"
      },
      "execution_count": 19,
      "outputs": []
    },
    {
      "cell_type": "code",
      "source": [
        "# one-hot encoding\n",
        "def to_one_hot(labels, dimension=46):\n",
        "  results = np.zeros((len(labels), dimension))\n",
        "  for i, label in enumerate(labels):\n",
        "    results[i, label] = 1.\n",
        "  return results\n",
        "\n",
        "y_train = to_one_hot(train_labels)\n",
        "y_test = to_one_hot(test_labels)"
      ],
      "metadata": {
        "id": "qUkNhCEyB_Y-"
      },
      "execution_count": 20,
      "outputs": []
    },
    {
      "cell_type": "code",
      "source": [
        "model = keras.Sequential([layers.Dense(64, activation=\"relu\"),\n",
        "                          layers.Dense(64, activation=\"relu\"),\n",
        "                          layers.Dense(46, activation=\"softmax\")])\n",
        "model.compile(optimizer=\"rmsprop\", loss=\"categorical_crossentropy\", metrics=[\"accuracy\"])"
      ],
      "metadata": {
        "id": "UfJ7NbdoCc_7"
      },
      "execution_count": 21,
      "outputs": []
    },
    {
      "cell_type": "code",
      "source": [
        "x_val = x_train[:1000]\n",
        "partial_x_train = x_train[1000:]\n",
        "y_val = y_train[:1000]\n",
        "partial_y_train = y_train[1000:]\n",
        "\n",
        "history = model.fit(partial_x_train, partial_y_train, epochs=20, batch_size=512, validation_data=(x_val, y_val))"
      ],
      "metadata": {
        "colab": {
          "base_uri": "https://localhost:8080/"
        },
        "id": "p2gmWSrhC73I",
        "outputId": "1e9c067a-29a9-4088-cf40-d71184edb3d0"
      },
      "execution_count": 23,
      "outputs": [
        {
          "output_type": "stream",
          "name": "stdout",
          "text": [
            "Epoch 1/20\n",
            "16/16 [==============================] - 2s 36ms/step - loss: 2.7999 - accuracy: 0.4994 - val_loss: 1.8743 - val_accuracy: 0.6330\n",
            "Epoch 2/20\n",
            "16/16 [==============================] - 0s 20ms/step - loss: 1.5683 - accuracy: 0.6828 - val_loss: 1.3997 - val_accuracy: 0.6950\n",
            "Epoch 3/20\n",
            "16/16 [==============================] - 0s 20ms/step - loss: 1.2119 - accuracy: 0.7306 - val_loss: 1.2238 - val_accuracy: 0.7360\n",
            "Epoch 4/20\n",
            "16/16 [==============================] - 0s 20ms/step - loss: 1.0051 - accuracy: 0.7796 - val_loss: 1.1296 - val_accuracy: 0.7390\n",
            "Epoch 5/20\n",
            "16/16 [==============================] - 0s 20ms/step - loss: 0.8445 - accuracy: 0.8176 - val_loss: 1.0590 - val_accuracy: 0.7660\n",
            "Epoch 6/20\n",
            "16/16 [==============================] - 0s 17ms/step - loss: 0.7083 - accuracy: 0.8532 - val_loss: 0.9894 - val_accuracy: 0.7850\n",
            "Epoch 7/20\n",
            "16/16 [==============================] - 0s 20ms/step - loss: 0.5990 - accuracy: 0.8728 - val_loss: 0.9638 - val_accuracy: 0.7870\n",
            "Epoch 8/20\n",
            "16/16 [==============================] - 0s 17ms/step - loss: 0.5032 - accuracy: 0.8936 - val_loss: 0.9057 - val_accuracy: 0.8070\n",
            "Epoch 9/20\n",
            "16/16 [==============================] - 0s 19ms/step - loss: 0.4233 - accuracy: 0.9107 - val_loss: 0.8844 - val_accuracy: 0.8140\n",
            "Epoch 10/20\n",
            "16/16 [==============================] - 0s 19ms/step - loss: 0.3669 - accuracy: 0.9226 - val_loss: 0.8753 - val_accuracy: 0.8150\n",
            "Epoch 11/20\n",
            "16/16 [==============================] - 0s 19ms/step - loss: 0.3120 - accuracy: 0.9316 - val_loss: 0.8803 - val_accuracy: 0.8160\n",
            "Epoch 12/20\n",
            "16/16 [==============================] - 0s 18ms/step - loss: 0.2754 - accuracy: 0.9372 - val_loss: 0.8776 - val_accuracy: 0.8240\n",
            "Epoch 13/20\n",
            "16/16 [==============================] - 0s 20ms/step - loss: 0.2414 - accuracy: 0.9427 - val_loss: 0.8740 - val_accuracy: 0.8180\n",
            "Epoch 14/20\n",
            "16/16 [==============================] - 0s 19ms/step - loss: 0.2161 - accuracy: 0.9474 - val_loss: 0.8778 - val_accuracy: 0.8240\n",
            "Epoch 15/20\n",
            "16/16 [==============================] - 0s 19ms/step - loss: 0.1950 - accuracy: 0.9504 - val_loss: 0.9049 - val_accuracy: 0.8240\n",
            "Epoch 16/20\n",
            "16/16 [==============================] - 0s 18ms/step - loss: 0.1750 - accuracy: 0.9523 - val_loss: 0.9030 - val_accuracy: 0.8190\n",
            "Epoch 17/20\n",
            "16/16 [==============================] - 0s 24ms/step - loss: 0.1620 - accuracy: 0.9543 - val_loss: 0.9224 - val_accuracy: 0.8160\n",
            "Epoch 18/20\n",
            "16/16 [==============================] - 0s 22ms/step - loss: 0.1548 - accuracy: 0.9569 - val_loss: 0.9262 - val_accuracy: 0.8190\n",
            "Epoch 19/20\n",
            "16/16 [==============================] - 0s 26ms/step - loss: 0.1428 - accuracy: 0.9550 - val_loss: 0.9791 - val_accuracy: 0.8080\n",
            "Epoch 20/20\n",
            "16/16 [==============================] - 0s 19ms/step - loss: 0.1394 - accuracy: 0.9555 - val_loss: 0.9669 - val_accuracy: 0.8130\n"
          ]
        }
      ]
    },
    {
      "cell_type": "code",
      "source": [
        "# lossをプロット\n",
        "loss = history.history[\"loss\"]\n",
        "val_loss = history.history[\"val_loss\"]\n",
        "epochs = range(1, len(loss) + 1)\n",
        "plt.plot(epochs, loss, \"bo\", label=\"Training loss\")\n",
        "plt.plot(epochs, val_loss, \"b\", label=\"Validation loss\")\n",
        "plt.title(\"Training and validation loss\")\n",
        "plt.xlabel(\"Epochs\")\n",
        "plt.ylabel(\"Loss\")\n",
        "plt.legend()\n",
        "plt.show()\n",
        "\n",
        "# accuracyをプロット\n",
        "plt.clf()\n",
        "acc = history.history[\"accuracy\"]\n",
        "val_acc = history.history[\"val_accuracy\"]\n",
        "plt.plot(epochs, acc, \"bo\", label=\"Training accuracy\")\n",
        "plt.plot(epochs, val_acc, \"b\", label=\"Validation accuracy\")\n",
        "plt.title(\"Training and validation accuracy\")\n",
        "plt.xlabel(\"Epochs\")\n",
        "plt.ylabel(\"Accuracy\")\n",
        "plt.legend()\n",
        "plt.show()"
      ],
      "metadata": {
        "colab": {
          "base_uri": "https://localhost:8080/",
          "height": 573
        },
        "id": "_IT1hVPxDQ-2",
        "outputId": "233f9e57-6108-4e28-b2c7-875dd6293fae"
      },
      "execution_count": 24,
      "outputs": [
        {
          "output_type": "display_data",
          "data": {
            "text/plain": [
              "<Figure size 432x288 with 1 Axes>"
            ],
            "image/png": "[encoded data removed]"
          },
          "metadata": {
            "needs_background": "light"
          }
        },
        {
          "output_type": "display_data",
          "data": {
            "text/plain": [
              "<Figure size 432x288 with 1 Axes>"
            ],
            "image/png": "[encoded data removed]"
          },
          "metadata": {
            "needs_background": "light"
          }
        }
      ]
    },
    {
      "cell_type": "code",
      "source": [
        "predictions = model.predict(x_test)\n",
        "print(predictions.shape)\n",
        "np.sum(predictions[0])\n",
        "np.argmax(predictions[0])"
      ],
      "metadata": {
        "colab": {
          "base_uri": "https://localhost:8080/"
        },
        "id": "URQJdOwBExFp",
        "outputId": "9c8428f8-e810-471c-a2e3-153291f340b7"
      },
      "execution_count": 29,
      "outputs": [
        {
          "output_type": "stream",
          "name": "stdout",
          "text": [
            "71/71 [==============================] - 0s 4ms/step\n",
            "(2246, 46)\n"
          ]
        },
        {
          "output_type": "execute_result",
          "data": {
            "text/plain": [
              "3"
            ]
          },
          "metadata": {},
          "execution_count": 29
        }
      ]
    },
    {
      "cell_type": "code",
      "source": [],
      "metadata": {
        "id": "FUjWJSVnFYOI"
      },
      "execution_count": null,
      "outputs": []
    }
  ]
}